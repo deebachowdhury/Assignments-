{
  "nbformat": 4,
  "nbformat_minor": 0,
  "metadata": {
    "colab": {
      "provenance": [],
      "authorship_tag": "ABX9TyOTimc8qFAmhsd9761sK2yT",
      "include_colab_link": true
    },
    "kernelspec": {
      "name": "python3",
      "display_name": "Python 3"
    },
    "language_info": {
      "name": "python"
    }
  },
  "cells": [
    {
      "cell_type": "markdown",
      "metadata": {
        "id": "view-in-github",
        "colab_type": "text"
      },
      "source": [
        "<a href=\"https://colab.research.google.com/github/deebachowdhury/Assignments-/blob/main/Untitled2.ipynb\" target=\"_parent\"><img src=\"https://colab.research.google.com/assets/colab-badge.svg\" alt=\"Open In Colab\"/></a>"
      ]
    },
    {
      "cell_type": "code",
      "execution_count": 3,
      "metadata": {
        "colab": {
          "base_uri": "https://localhost:8080/",
          "height": 756
        },
        "id": "bWm3m7LPPY0o",
        "outputId": "d421009a-5aea-4af8-da10-53fe186113b8"
      },
      "outputs": [
        {
          "name": "stdout",
          "output_type": "stream",
          "text": [
            "Enter your weight (kg): 59\n",
            "Enter your height (m): 1.62\n",
            "Are you a smoker? (Yes/No): no\n",
            "Do you consume alcohol? (Yes/No): no\n",
            "Are you physically active? (Yes/No): yes\n",
            "Data saved to heart_condition_data.csv\n",
            "Would you like to enter another record? (Yes/No): yes\n",
            "Enter your weight (kg): 61\n",
            "Enter your height (m): 1.64\n",
            "Are you a smoker? (Yes/No): yes\n",
            "Do you consume alcohol? (Yes/No): no\n",
            "Are you physically active? (Yes/No): yes\n",
            "Data saved to heart_condition_data.csv\n",
            "Would you like to enter another record? (Yes/No): no\n"
          ]
        },
        {
          "output_type": "display_data",
          "data": {
            "text/plain": [
              "<Figure size 640x480 with 1 Axes>"
            ],
            "image/png": "[encoded data removed]"
          },
          "metadata": {}
        }
      ],
      "source": [
        "import pandas as pd\n",
        "import numpy as np\n",
        "import matplotlib.pyplot as plt\n",
        "\n",
        "def calculate_bmi(weight, height):\n",
        "    bmi = weight / (height ** 2)\n",
        "    return bmi\n",
        "\n",
        "def predict_heart_condition_risk(bmi, smoking_status, alcohol_status, activity_status):\n",
        "    if bmi < 18.5:\n",
        "        bmi_category = 'Underweight'\n",
        "    elif 18.5 <= bmi < 25:\n",
        "        bmi_category = 'Normal weight'\n",
        "    elif 25 <= bmi < 30:\n",
        "        bmi_category = 'Overweight'\n",
        "    else:\n",
        "        bmi_category = 'Obesity'\n",
        "\n",
        "    # Example logic for risk based on provided table\n",
        "    if bmi_category == 'Obesity' and smoking_status == 'Smoker' and activity_status == 'Inactive':\n",
        "        return 'High'\n",
        "    # Add more conditions based on the provided table\n",
        "    else:\n",
        "        return 'Medium'\n",
        "\n",
        "def get_user_input():\n",
        "    try:\n",
        "        weight = float(input(\"Enter your weight (kg): \"))\n",
        "        height = float(input(\"Enter your height (m): \"))\n",
        "        smoking_status = input(\"Are you a smoker? (Yes/No): \")\n",
        "        alcohol_status = input(\"Do you consume alcohol? (Yes/No): \")\n",
        "        activity_status = input(\"Are you physically active? (Yes/No): \")\n",
        "\n",
        "        # Convert inputs to lowercase and validate\n",
        "        smoking_status = 'Smoker' if smoking_status.lower() == 'yes' else 'Non-smoker'\n",
        "        alcohol_status = 'Drinker' if alcohol_status.lower() == 'yes' else 'Non-drinker'\n",
        "        activity_status = 'Active' if activity_status.lower() == 'yes' else 'Inactive'\n",
        "\n",
        "        return weight, height, smoking_status, alcohol_status, activity_status\n",
        "    except ValueError:\n",
        "        print(\"Invalid input. Please enter numerical values for weight and height.\")\n",
        "        return get_user_input()\n",
        "\n",
        "def save_data_to_csv(data, filename='heart_condition_data.csv'):\n",
        "    df = pd.DataFrame(data)\n",
        "    df.to_csv(filename, index=False)\n",
        "    print(f\"Data saved to {filename}\")\n",
        "\n",
        "def visualize_data(filename='heart_condition_data.csv'):\n",
        "    df = pd.read_csv(filename)\n",
        "    df['Risk'].value_counts().plot(kind='bar')\n",
        "    plt.title('Heart Condition Risk Distribution')\n",
        "    plt.xlabel('Risk Level')\n",
        "    plt.ylabel('Frequency')\n",
        "    plt.show()\n",
        "\n",
        "def main():\n",
        "    data = []\n",
        "    while True:\n",
        "        weight, height, smoking_status, alcohol_status, activity_status = get_user_input()\n",
        "        bmi = calculate_bmi(weight, height)\n",
        "        risk = predict_heart_condition_risk(bmi, smoking_status, alcohol_status, activity_status)\n",
        "        data.append({\n",
        "            'Weight': weight,\n",
        "            'Height': height,\n",
        "            'BMI': bmi,\n",
        "            'Smoking Status': smoking_status,\n",
        "            'Alcohol Status': alcohol_status,\n",
        "            'Activity Status': activity_status,\n",
        "            'Risk': risk\n",
        "        })\n",
        "\n",
        "        save_data_to_csv(data)\n",
        "\n",
        "        another = input(\"Would you like to enter another record? (Yes/No): \")\n",
        "        if another.lower() != 'yes':\n",
        "            break\n",
        "\n",
        "    visualize_data()\n",
        "\n",
        "# Corrected line with double underscores\n",
        "if __name__ == \"__main__\":\n",
        "    main()"
      ]
    }
  ]
}