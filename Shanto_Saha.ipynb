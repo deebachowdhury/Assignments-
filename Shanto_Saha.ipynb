{
  "nbformat": 4,
  "nbformat_minor": 0,
  "metadata": {
    "colab": {
      "provenance": [],
      "include_colab_link": true
    },
    "kernelspec": {
      "name": "python3",
      "display_name": "Python 3"
    },
    "language_info": {
      "name": "python"
    }
  },
  "cells": [
    {
      "cell_type": "markdown",
      "metadata": {
        "id": "view-in-github",
        "colab_type": "text"
      },
      "source": [
        "<a href=\"https://colab.research.google.com/github/deebachowdhury/Assignments-/blob/main/Shanto_Saha.ipynb\" target=\"_parent\"><img src=\"https://colab.research.google.com/assets/colab-badge.svg\" alt=\"Open In Colab\"/></a>"
      ]
    },
    {
      "cell_type": "code",
      "execution_count": null,
      "metadata": {
        "id": "zkbQHPqm0v_x"
      },
      "outputs": [],
      "source": [
        "\n",
        "import pandas as pd\n",
        "import numpy as np\n",
        "import matplotlib.pyplot as plt"
      ]
    },
    {
      "cell_type": "code",
      "source": [
        "def get_risk(bmi_category, smoking_status, alcohol_status, activity_status):\n",
        "    # Define the risk matrix as a dictionary for quick lookup\n",
        "    risk_matrix = {\n",
        "        ('Underweight', 'Non-smoker', 'Non-drinker', 'Inactive'): 'Medium',\n",
        "        ('Underweight', 'Non-smoker', 'Non-drinker', 'Active'): 'Low',\n",
        "        # Add all other combinations from the provided table\n",
        "        # ...\n",
        "        ('Obesity', 'Smoker', 'Drinker', 'Active'): 'High'\n",
        "    }\n",
        "    return risk_matrix.get((bmi_category, smoking_status, alcohol_status, activity_status), 'Unknown')"
      ],
      "metadata": {
        "id": "XGRcFRUq1cef"
      },
      "execution_count": null,
      "outputs": []
    },
    {
      "cell_type": "code",
      "source": [
        "def calculate_bmi(height, weight):\n",
        "    height_m = height / 100\n",
        "    bmi = weight / (height_m ** 2)\n",
        "    if bmi < 18.5:\n",
        "        return 'Underweight'\n",
        "    elif 18.5 <= bmi < 24.9:\n",
        "        return 'Normal weight'\n",
        "    elif 25 <= bmi < 29.9:\n",
        "        return 'Overweight'\n",
        "    else:\n",
        "        return 'Obesity'\n",
        "\n",
        "def get_user_input():\n",
        "    height = float(input(\"Enter height in cm: \"))\n",
        "    weight = float(input(\"Enter weight in kg: \"))\n",
        "    smoking_status = input(\"Smoking status (Non-smoker/Smoker): \")\n",
        "    alcohol_status = input(\"Alcohol consumption status (Non-drinker/Drinker): \")\n",
        "    activity_status = input(\"Physical activity status (Inactive/Active): \")\n",
        "    bmi_category = calculate_bmi(height, weight)\n",
        "    risk = get_risk(bmi_category, smoking_status, alcohol_status, activity_status)\n",
        "\n",
        "    return {\n",
        "        'Height': height,\n",
        "        'Weight': weight,\n",
        "        'BMI Category': bmi_category,\n",
        "        'Smoking Status': smoking_status,\n",
        "        'Alcohol Status': alcohol_status,\n",
        "        'Activity Status': activity_status,\n",
        "        'Risk': risk\n",
        "    }"
      ],
      "metadata": {
        "id": "nqOfuPBf1hV2"
      },
      "execution_count": null,
      "outputs": []
    },
    {
      "cell_type": "code",
      "source": [
        "import pandas as pd\n",
        "\n",
        "# Function to collect data for one patient\n",
        "def get_user_input():\n",
        "    age = int(input(\"Enter your age: \"))\n",
        "    gender = input(\"Enter your gender (M/F): \").upper()\n",
        "    height = float(input(\"Enter your height in meters: \"))\n",
        "    weight = float(input(\"Enter your weight in kg: \"))\n",
        "    bmi = weight / (height ** 2)\n",
        "\n",
        "    smoking_status = input(\"Do you smoke? (yes/no): \").lower()\n",
        "    alcohol_status = input(\"Do you drink alcohol? (yes/no): \").lower()\n",
        "    activity_status = input(\"Are you physically active? (yes/no): \").lower()\n",
        "\n",
        "    return {\n",
        "        'Age': age,\n",
        "        'Gender': gender,\n",
        "        'BMI': bmi,\n",
        "        'Smoking Status': smoking_status,\n",
        "        'Alcohol Status': alcohol_status,\n",
        "        'Activity Status': activity_status\n",
        "    }\n",
        "\n",
        "# Function to determine heart condition risk\n",
        "def predict_risk(patient_data):\n",
        "    bmi = patient_data['BMI']\n",
        "\n",
        "    if bmi < 18.5:\n",
        "        bmi_category = \"Underweight\"\n",
        "    elif 18.5 <= bmi < 25:\n",
        "        bmi_category = \"Normal weight\"\n",
        "    elif 25 <= bmi < 30:\n",
        "        bmi_category = \"Overweight\"\n",
        "    else:\n",
        "        bmi_category = \"Obesity\"\n",
        "\n",
        "    smoking_status = patient_data['Smoking Status']\n",
        "    activity_status = patient_data['Activity Status']\n",
        "\n",
        "    # Basic example of risk determination based on BMI and smoking\n",
        "    if bmi_category == \"Underweight\" and smoking_status == \"yes\":\n",
        "        risk = \"High\"\n",
        "    elif bmi_category == \"Normal weight\" and activity_status == \"yes\":\n",
        "        risk = \"Low\"\n",
        "    else:\n",
        "        risk = \"Medium\"  # Default risk level, modify as per the risk table\n",
        "\n",
        "    patient_data['BMI Category'] = bmi_category\n",
        "    patient_data['Heart Condition Risk'] = risk\n",
        "    return patient_data\n",
        "\n",
        "# List to store data of all patients\n",
        "patients_data = []\n",
        "\n",
        "# Loop to collect data for multiple patients\n",
        "while True:\n",
        "    patient_data = get_user_input()\n",
        "    patient_data = predict_risk(patient_data)\n",
        "    patients_data.append(patient_data)\n",
        "\n",
        "    another = input(\"Would you like to enter data for another patient? (yes/no): \").lower()\n",
        "    if another != 'yes':\n",
        "        break"
      ],
      "metadata": {
        "colab": {
          "base_uri": "https://localhost:8080/"
        },
        "id": "Sg7AIgvH1yzp",
        "outputId": "6227c9c5-d813-4ed6-b0cd-fb32b58e355d"
      },
      "execution_count": null,
      "outputs": [
        {
          "name": "stdout",
          "output_type": "stream",
          "text": [
            "Enter your age: 65\n",
            "Enter your gender (M/F): F\n",
            "Enter your height in meters: 1.54\n",
            "Enter your weight in kg: 55\n",
            "Do you smoke? (yes/no): no\n",
            "Do you drink alcohol? (yes/no): no\n",
            "Are you physically active? (yes/no): no\n",
            "Would you like to enter data for another patient? (yes/no): yes\n",
            "Enter your age: 23\n",
            "Enter your gender (M/F): M\n",
            "Enter your height in meters: 1.78\n",
            "Enter your weight in kg: 48\n",
            "Do you smoke? (yes/no): yes\n",
            "Do you drink alcohol? (yes/no): no\n",
            "Are you physically active? (yes/no): yes\n",
            "Would you like to enter data for another patient? (yes/no): no\n"
          ]
        }
      ]
    },
    {
      "cell_type": "code",
      "source": [
        "# Convert list of dictionaries to DataFrame and save to CSV\n",
        "df = pd.DataFrame(patients_data)\n",
        "df.to_csv('heart_condition_predictions.csv', mode='a', header=False, index=False)\n",
        "\n",
        "print(\"All patient data has been saved to CSV.\")"
      ],
      "metadata": {
        "colab": {
          "base_uri": "https://localhost:8080/"
        },
        "id": "VgVAfbwz31gH",
        "outputId": "b23c2923-af91-4442-eaf0-8a81c2d330b1"
      },
      "execution_count": null,
      "outputs": [
        {
          "output_type": "stream",
          "name": "stdout",
          "text": [
            "All patient data has been saved to CSV.\n"
          ]
        }
      ]
    },
    {
      "cell_type": "code",
      "source": [
        "# Display the data of all patients\n",
        "print(df)"
      ],
      "metadata": {
        "colab": {
          "base_uri": "https://localhost:8080/"
        },
        "id": "xz5s6EAY36tQ",
        "outputId": "d22cb334-61f0-44ea-9661-f367281f6928"
      },
      "execution_count": null,
      "outputs": [
        {
          "output_type": "stream",
          "name": "stdout",
          "text": [
            "   Age Gender        BMI Smoking Status Alcohol Status Activity Status  \\\n",
            "0   65      F  23.191095             no             no              no   \n",
            "1   23      M  15.149602            yes             no             yes   \n",
            "\n",
            "    BMI Category Heart Condition Risk  \n",
            "0  Normal weight               Medium  \n",
            "1    Underweight                 High  \n"
          ]
        }
      ]
    },
    {
      "cell_type": "code",
      "source": [
        "import matplotlib.pyplot as plt\n",
        "\n",
        "# Plot the distribution of BMI categories\n",
        "df['BMI Category'].value_counts().plot(kind='bar', title='BMI Category Distribution', color='skyblue')\n",
        "plt.xlabel('BMI Category')\n",
        "plt.ylabel('Number of Patients')\n",
        "plt.show()"
      ],
      "metadata": {
        "colab": {
          "base_uri": "https://localhost:8080/",
          "height": 559
        },
        "id": "i7i2XU_Y4Tg-",
        "outputId": "8d66c502-4a60-4a6d-bd15-37d0a9301593"
      },
      "execution_count": null,
      "outputs": [
        {
          "output_type": "display_data",
          "data": {
            "text/plain": [
              "<Figure size 640x480 with 1 Axes>"
            ],
            "image/png": "[encoded data removed]"
          },
          "metadata": {}
        }
      ]
    },
    {
      "cell_type": "code",
      "source": [
        "# Plot the distribution of Heart Condition Risk\n",
        "df['Heart Condition Risk'].value_counts().plot(kind='pie', autopct='%1.1f%%', title='Heart Condition Risk Distribution', startangle=90)\n",
        "plt.show()"
      ],
      "metadata": {
        "colab": {
          "base_uri": "https://localhost:8080/",
          "height": 428
        },
        "id": "vrBIYoGt4Xq3",
        "outputId": "782e8c19-09b6-4af0-ac40-62a12f0a57fb"
      },
      "execution_count": null,
      "outputs": [
        {
          "output_type": "display_data",
          "data": {
            "text/plain": [
              "<Figure size 640x480 with 1 Axes>"
            ],
            "image/png": "[encoded data removed]"
          },
          "metadata": {}
        }
      ]
    }
  ]
}